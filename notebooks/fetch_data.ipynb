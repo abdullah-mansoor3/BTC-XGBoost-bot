{
 "cells": [
  {
   "cell_type": "code",
   "execution_count": 1,
   "id": "fed55808-ad87-425e-b730-12ed540ebf49",
   "metadata": {},
   "outputs": [],
   "source": [
    "import ccxt\n",
    "import pandas as pd\n",
    "import numpy as np\n",
    "import os\n",
    "from dotenv import load_dotenv\n",
    "from datetime import datetime, timedelta"
   ]
  },
  {
   "cell_type": "code",
   "execution_count": 2,
   "id": "468bff1b-cece-4115-86a2-543e8f360930",
   "metadata": {},
   "outputs": [
    {
     "data": {
      "text/plain": [
       "True"
      ]
     },
     "execution_count": 2,
     "metadata": {},
     "output_type": "execute_result"
    }
   ],
   "source": [
    "# Load the environment variables\n",
    "load_dotenv()"
   ]
  },
  {
   "cell_type": "markdown",
   "id": "2ef3f827-c4f3-4138-9527-d106f5b07f0f",
   "metadata": {},
   "source": [
    "# Get Candle Stick Data from Binance"
   ]
  },
  {
   "cell_type": "code",
   "execution_count": 6,
   "id": "ee693158-e24f-45e7-8164-5c2ad8d7bb95",
   "metadata": {},
   "outputs": [],
   "source": [
    "# Binance API credentials\n",
    "BINANCE_API_KEY = os.getenv(\"BINANCE_API_KEY\")\n",
    "BINANCE_SECRET_KEY = os.getenv(\"BINANCE_SECRET_KEY\")\n",
    "\n",
    "# Initialize Binance Exchange\n",
    "exchange = ccxt.binance({\n",
    "    'apiKey': BINANCE_API_KEY,\n",
    "    'secret': BINANCE_SECRET_KEY,\n",
    "    'rateLimit': 1200,\n",
    "    'enableRateLimit': True,\n",
    "    'options': {\n",
    "        'defaultType': 'future'  # Change to 'spot' for spot markets\n",
    "    }\n",
    "})"
   ]
  },
  {
   "cell_type": "code",
   "execution_count": 55,
   "id": "f81a94da-0c23-45be-92a8-8a7c9239be4f",
   "metadata": {},
   "outputs": [],
   "source": [
    "#Fetch the historical candle stick open, high, low, close and volume data\n",
    "def fetch_ohlcv(symbol, timeframe, since, retries=3, progress_days=30):\n",
    "    ohlcv = []  # Store all fetched data\n",
    "    attempts = 0  # Track retries\n",
    "    last_progress_message = since  # Track progress reporting\n",
    "\n",
    "    while True:\n",
    "        try:\n",
    "            # Fetch 500 candles\n",
    "            ohlcv_data = exchange.fetch_ohlcv(symbol, timeframe, since, limit=500)\n",
    "            \n",
    "            if ohlcv_data:\n",
    "                ohlcv.extend(ohlcv_data)  # Add the new data to the list\n",
    "                since = ohlcv_data[-1][0]  # Update the `since` for the next fetch\n",
    "                \n",
    "                # Check if progress message should be printed\n",
    "                if since - last_progress_message >= progress_days * 24 * 60 * 60 * 1000:  # Progress every N days\n",
    "                    print(f\"Fetched up to {datetime.utcfromtimestamp(since / 1000)}\")\n",
    "                    last_progress_message = since\n",
    "\n",
    "                # Stop if fewer than 500 candles are returned\n",
    "                if len(ohlcv_data) < 500:\n",
    "                    print(f\"Fetching completed up to {datetime.utcfromtimestamp(since / 1000)}.\")\n",
    "                    break\n",
    "            else:\n",
    "                print(f\"No more data to fetch at {datetime.utcfromtimestamp(since / 1000)}.\")\n",
    "                break\n",
    "        except ccxt.NetworkError as e:\n",
    "            print(f\"Network error: {e}, retrying...\")\n",
    "            attempts += 1\n",
    "            if attempts >= retries:\n",
    "                print(\"Max retries reached. Exiting.\")\n",
    "                break\n",
    "        except ccxt.ExchangeError as e:\n",
    "            print(f\"Exchange error: {e}, retrying...\")\n",
    "            attempts += 1\n",
    "            if attempts >= retries:\n",
    "                print(\"Max retries reached. Exiting.\")\n",
    "                break\n",
    "        except Exception as e:\n",
    "            print(f\"Unexpected error: {e}, retrying...\")\n",
    "            attempts += 1\n",
    "            if attempts >= retries:\n",
    "                print(\"Max retries reached. Exiting.\")\n",
    "                break\n",
    "\n",
    "    return ohlcv"
   ]
  },
  {
   "cell_type": "code",
   "execution_count": 61,
   "id": "3412542d-3aaa-4773-a986-f6cd6dd1a638",
   "metadata": {},
   "outputs": [],
   "source": [
    "# Symbol and timeframe\n",
    "symbol = 'BTC/USDT'\n",
    "timeframe = '1h'  # 1-hour timeframe\n",
    "since = exchange.parse8601('2015-01-01T00:00:00Z')  # Start from Jan 1, 2015"
   ]
  },
  {
   "cell_type": "code",
   "execution_count": 63,
   "id": "69e50334-2e8b-4f8e-b44d-35bb28d3309d",
   "metadata": {},
   "outputs": [
    {
     "name": "stdout",
     "output_type": "stream",
     "text": [
      "Network error: binance GET https://fapi.binance.com/fapi/v1/klines?interval=1h&limit=500&symbol=BTCUSDT&startTime=1420070400000, retrying...\n"
     ]
    },
    {
     "name": "stderr",
     "output_type": "stream",
     "text": [
      "/tmp/ipykernel_5347/3309240479.py:18: DeprecationWarning: datetime.datetime.utcfromtimestamp() is deprecated and scheduled for removal in a future version. Use timezone-aware objects to represent datetimes in UTC: datetime.datetime.fromtimestamp(timestamp, datetime.UTC).\n",
      "  print(f\"Fetched up to {datetime.utcfromtimestamp(since / 1000)}\")\n"
     ]
    },
    {
     "name": "stdout",
     "output_type": "stream",
     "text": [
      "Fetched up to 2019-09-29 12:00:00\n",
      "Fetched up to 2019-11-10 02:00:00\n",
      "Fetched up to 2019-12-21 16:00:00\n",
      "Fetched up to 2020-02-01 06:00:00\n",
      "Fetched up to 2020-03-13 20:00:00\n",
      "Fetched up to 2020-04-24 10:00:00\n",
      "Fetched up to 2020-06-05 00:00:00\n",
      "Fetched up to 2020-07-16 14:00:00\n",
      "Fetched up to 2020-08-27 04:00:00\n",
      "Fetched up to 2020-10-07 18:00:00\n",
      "Fetched up to 2020-11-18 08:00:00\n",
      "Fetched up to 2020-12-29 22:00:00\n",
      "Fetched up to 2021-02-09 12:00:00\n",
      "Fetched up to 2021-03-23 02:00:00\n",
      "Fetched up to 2021-05-03 16:00:00\n",
      "Fetched up to 2021-06-14 06:00:00\n",
      "Fetched up to 2021-07-25 20:00:00\n",
      "Fetched up to 2021-09-05 10:00:00\n",
      "Fetched up to 2021-10-17 00:00:00\n",
      "Fetched up to 2021-11-27 14:00:00\n",
      "Fetched up to 2022-01-08 04:00:00\n",
      "Fetched up to 2022-02-18 18:00:00\n",
      "Fetched up to 2022-04-01 08:00:00\n",
      "Fetched up to 2022-05-12 22:00:00\n",
      "Fetched up to 2022-06-23 12:00:00\n",
      "Fetched up to 2022-08-04 02:00:00\n",
      "Fetched up to 2022-09-14 16:00:00\n",
      "Fetched up to 2022-10-26 06:00:00\n",
      "Fetched up to 2022-12-06 20:00:00\n",
      "Fetched up to 2023-01-17 10:00:00\n",
      "Fetched up to 2023-02-28 00:00:00\n",
      "Fetched up to 2023-04-10 14:00:00\n",
      "Fetched up to 2023-05-22 04:00:00\n",
      "Fetched up to 2023-07-02 18:00:00\n",
      "Fetched up to 2023-08-13 08:00:00\n",
      "Fetched up to 2023-09-23 22:00:00\n",
      "Fetched up to 2023-11-04 12:00:00\n",
      "Fetched up to 2023-12-16 02:00:00\n",
      "Fetched up to 2024-01-26 16:00:00\n",
      "Fetched up to 2024-03-08 06:00:00\n",
      "Fetched up to 2024-04-18 20:00:00\n",
      "Network error: binance GET https://fapi.binance.com/fapi/v1/klines?interval=1h&limit=500&symbol=BTCUSDT&startTime=1713470400000, retrying...\n",
      "Fetched up to 2024-05-30 10:00:00\n",
      "Fetched up to 2024-07-11 00:00:00\n",
      "Fetched up to 2024-08-21 14:00:00\n",
      "Fetched up to 2024-10-02 04:00:00\n",
      "Fetched up to 2024-11-12 18:00:00\n",
      "Fetched up to 2024-12-22 16:00:00\n",
      "Fetching completed up to 2024-12-22 16:00:00.\n"
     ]
    },
    {
     "name": "stderr",
     "output_type": "stream",
     "text": [
      "/tmp/ipykernel_5347/3309240479.py:23: DeprecationWarning: datetime.datetime.utcfromtimestamp() is deprecated and scheduled for removal in a future version. Use timezone-aware objects to represent datetimes in UTC: datetime.datetime.fromtimestamp(timestamp, datetime.UTC).\n",
      "  print(f\"Fetching completed up to {datetime.utcfromtimestamp(since / 1000)}.\")\n"
     ]
    }
   ],
   "source": [
    "# Fetch historical data\n",
    "ohlcv = fetch_ohlcv(symbol, timeframe, since)"
   ]
  },
  {
   "cell_type": "code",
   "execution_count": 65,
   "id": "e0d1a2b0-fe03-4477-a34a-88591f467b9b",
   "metadata": {},
   "outputs": [
    {
     "name": "stdout",
     "output_type": "stream",
     "text": [
      "            timestamp      open      high       low     close   volume\n",
      "0 2019-09-08 17:00:00  10000.00  10000.00  10000.00  10000.00    0.002\n",
      "1 2019-09-08 18:00:00  10000.00  10000.00  10000.00  10000.00    0.000\n",
      "2 2019-09-08 19:00:00  10344.77  10357.53  10337.43  10340.12  471.659\n",
      "3 2019-09-08 20:00:00  10340.12  10368.64  10334.54  10351.42  583.271\n",
      "4 2019-09-08 21:00:00  10351.42  10391.90  10324.77  10391.90  689.759\n"
     ]
    }
   ],
   "source": [
    "# Convert to DataFrame\n",
    "df = pd.DataFrame(ohlcv, columns=['timestamp', 'open', 'high', 'low', 'close', 'volume'])\n",
    "\n",
    "# Convert timestamp to readable format\n",
    "df['timestamp'] = pd.to_datetime(df['timestamp'], unit='ms')\n",
    "\n",
    "# Display the first few rows of the data\n",
    "print(df.head())\n",
    "\n",
    "# Save the data to a CSV file\n",
    "df.to_csv('btc_usdt_ohlcv_1h_5years.csv', index=False)"
   ]
  },
  {
   "cell_type": "code",
   "execution_count": 67,
   "id": "f6055337-1ccc-4156-84d9-d488036ab593",
   "metadata": {},
   "outputs": [
    {
     "data": {
      "text/plain": [
       "(46460, 6)"
      ]
     },
     "execution_count": 67,
     "metadata": {},
     "output_type": "execute_result"
    }
   ],
   "source": [
    "df.shape"
   ]
  }
 ],
 "metadata": {
  "kernelspec": {
   "display_name": "Python 3 (ipykernel)",
   "language": "python",
   "name": "python3"
  },
  "language_info": {
   "codemirror_mode": {
    "name": "ipython",
    "version": 3
   },
   "file_extension": ".py",
   "mimetype": "text/x-python",
   "name": "python",
   "nbconvert_exporter": "python",
   "pygments_lexer": "ipython3",
   "version": "3.12.4"
  }
 },
 "nbformat": 4,
 "nbformat_minor": 5
}
