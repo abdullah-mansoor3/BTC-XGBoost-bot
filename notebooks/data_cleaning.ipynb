{
 "cells": [
  {
   "cell_type": "code",
   "execution_count": 2,
   "id": "146062ce-38a5-42b3-858e-648c2166684a",
   "metadata": {},
   "outputs": [],
   "source": [
    "import pandas as pd\n",
    "import numpy as np"
   ]
  },
  {
   "cell_type": "markdown",
   "id": "c9cdd722-ae25-4de3-b9cf-f2468d891777",
   "metadata": {},
   "source": [
    "# Clean the candlestick data"
   ]
  },
  {
   "cell_type": "code",
   "execution_count": 3,
   "id": "85c5f690-c3d4-43d5-b020-4dafb6ad41d2",
   "metadata": {},
   "outputs": [],
   "source": [
    "ohlcv = pd.read_csv(\"btc_usdt_ohlcv_1h_5years.csv\")"
   ]
  },
  {
   "cell_type": "code",
   "execution_count": 4,
   "id": "30a820d0-67d6-4263-aefd-8623d3ffc81c",
   "metadata": {},
   "outputs": [
    {
     "data": {
      "text/plain": [
       "(46460, 6)"
      ]
     },
     "execution_count": 4,
     "metadata": {},
     "output_type": "execute_result"
    }
   ],
   "source": [
    "ohlcv.shape"
   ]
  },
  {
   "cell_type": "code",
   "execution_count": 5,
   "id": "271e8b69-30dc-48f0-a701-9067c7c37052",
   "metadata": {},
   "outputs": [
    {
     "data": {
      "text/plain": [
       "timestamp    0\n",
       "open         0\n",
       "high         0\n",
       "low          0\n",
       "close        0\n",
       "volume       0\n",
       "dtype: int64"
      ]
     },
     "execution_count": 5,
     "metadata": {},
     "output_type": "execute_result"
    }
   ],
   "source": [
    "ohlcv.isna().sum()"
   ]
  },
  {
   "cell_type": "code",
   "execution_count": 6,
   "id": "617c9410-f1c1-4c42-9e3c-bfab9a27a06b",
   "metadata": {},
   "outputs": [
    {
     "data": {
      "text/html": [
       "<div>\n",
       "<style scoped>\n",
       "    .dataframe tbody tr th:only-of-type {\n",
       "        vertical-align: middle;\n",
       "    }\n",
       "\n",
       "    .dataframe tbody tr th {\n",
       "        vertical-align: top;\n",
       "    }\n",
       "\n",
       "    .dataframe thead th {\n",
       "        text-align: right;\n",
       "    }\n",
       "</style>\n",
       "<table border=\"1\" class=\"dataframe\">\n",
       "  <thead>\n",
       "    <tr style=\"text-align: right;\">\n",
       "      <th></th>\n",
       "      <th>timestamp</th>\n",
       "      <th>open</th>\n",
       "      <th>high</th>\n",
       "      <th>low</th>\n",
       "      <th>close</th>\n",
       "      <th>volume</th>\n",
       "    </tr>\n",
       "  </thead>\n",
       "  <tbody>\n",
       "    <tr>\n",
       "      <th>25315</th>\n",
       "      <td>2022-07-27 10:00:00</td>\n",
       "      <td>21284.6</td>\n",
       "      <td>21325.0</td>\n",
       "      <td>21240.9</td>\n",
       "      <td>21277.9</td>\n",
       "      <td>12818.451</td>\n",
       "    </tr>\n",
       "    <tr>\n",
       "      <th>23033</th>\n",
       "      <td>2022-04-23 12:00:00</td>\n",
       "      <td>39583.3</td>\n",
       "      <td>39762.9</td>\n",
       "      <td>39506.2</td>\n",
       "      <td>39670.0</td>\n",
       "      <td>8400.405</td>\n",
       "    </tr>\n",
       "    <tr>\n",
       "      <th>43814</th>\n",
       "      <td>2024-09-03 16:00:00</td>\n",
       "      <td>57695.1</td>\n",
       "      <td>57900.0</td>\n",
       "      <td>57630.0</td>\n",
       "      <td>57678.1</td>\n",
       "      <td>9717.155</td>\n",
       "    </tr>\n",
       "    <tr>\n",
       "      <th>25054</th>\n",
       "      <td>2022-07-16 13:00:00</td>\n",
       "      <td>20686.1</td>\n",
       "      <td>20850.0</td>\n",
       "      <td>20672.0</td>\n",
       "      <td>20827.8</td>\n",
       "      <td>28860.105</td>\n",
       "    </tr>\n",
       "    <tr>\n",
       "      <th>30699</th>\n",
       "      <td>2023-03-08 07:00:00</td>\n",
       "      <td>22015.0</td>\n",
       "      <td>22028.4</td>\n",
       "      <td>21951.3</td>\n",
       "      <td>21962.2</td>\n",
       "      <td>10448.074</td>\n",
       "    </tr>\n",
       "  </tbody>\n",
       "</table>\n",
       "</div>"
      ],
      "text/plain": [
       "                 timestamp     open     high      low    close     volume\n",
       "25315  2022-07-27 10:00:00  21284.6  21325.0  21240.9  21277.9  12818.451\n",
       "23033  2022-04-23 12:00:00  39583.3  39762.9  39506.2  39670.0   8400.405\n",
       "43814  2024-09-03 16:00:00  57695.1  57900.0  57630.0  57678.1   9717.155\n",
       "25054  2022-07-16 13:00:00  20686.1  20850.0  20672.0  20827.8  28860.105\n",
       "30699  2023-03-08 07:00:00  22015.0  22028.4  21951.3  21962.2  10448.074"
      ]
     },
     "execution_count": 6,
     "metadata": {},
     "output_type": "execute_result"
    }
   ],
   "source": [
    "ohlcv.sample(n=5)"
   ]
  },
  {
   "cell_type": "code",
   "execution_count": 7,
   "id": "70a89e9f-68df-4e74-bbfa-3e5afff1a7a7",
   "metadata": {},
   "outputs": [
    {
     "data": {
      "text/html": [
       "<div>\n",
       "<style scoped>\n",
       "    .dataframe tbody tr th:only-of-type {\n",
       "        vertical-align: middle;\n",
       "    }\n",
       "\n",
       "    .dataframe tbody tr th {\n",
       "        vertical-align: top;\n",
       "    }\n",
       "\n",
       "    .dataframe thead th {\n",
       "        text-align: right;\n",
       "    }\n",
       "</style>\n",
       "<table border=\"1\" class=\"dataframe\">\n",
       "  <thead>\n",
       "    <tr style=\"text-align: right;\">\n",
       "      <th></th>\n",
       "      <th>open</th>\n",
       "      <th>high</th>\n",
       "      <th>low</th>\n",
       "      <th>close</th>\n",
       "      <th>volume</th>\n",
       "    </tr>\n",
       "  </thead>\n",
       "  <tbody>\n",
       "    <tr>\n",
       "      <th>count</th>\n",
       "      <td>46460.000000</td>\n",
       "      <td>46460.000000</td>\n",
       "      <td>46460.000000</td>\n",
       "      <td>46460.000000</td>\n",
       "      <td>46460.000000</td>\n",
       "    </tr>\n",
       "    <tr>\n",
       "      <th>mean</th>\n",
       "      <td>34334.511614</td>\n",
       "      <td>34491.915990</td>\n",
       "      <td>34170.600074</td>\n",
       "      <td>34336.357737</td>\n",
       "      <td>14774.498800</td>\n",
       "    </tr>\n",
       "    <tr>\n",
       "      <th>std</th>\n",
       "      <td>21146.496148</td>\n",
       "      <td>21239.254915</td>\n",
       "      <td>21049.868719</td>\n",
       "      <td>21148.123174</td>\n",
       "      <td>16489.470287</td>\n",
       "    </tr>\n",
       "    <tr>\n",
       "      <th>min</th>\n",
       "      <td>4062.950000</td>\n",
       "      <td>4598.000000</td>\n",
       "      <td>3621.810000</td>\n",
       "      <td>4062.890000</td>\n",
       "      <td>0.000000</td>\n",
       "    </tr>\n",
       "    <tr>\n",
       "      <th>25%</th>\n",
       "      <td>16953.725000</td>\n",
       "      <td>16997.650000</td>\n",
       "      <td>16921.850000</td>\n",
       "      <td>16953.800000</td>\n",
       "      <td>5586.844750</td>\n",
       "    </tr>\n",
       "    <tr>\n",
       "      <th>50%</th>\n",
       "      <td>29979.000000</td>\n",
       "      <td>30105.400000</td>\n",
       "      <td>29869.800000</td>\n",
       "      <td>29979.200000</td>\n",
       "      <td>9781.185500</td>\n",
       "    </tr>\n",
       "    <tr>\n",
       "      <th>75%</th>\n",
       "      <td>48589.365000</td>\n",
       "      <td>48860.367500</td>\n",
       "      <td>48304.490000</td>\n",
       "      <td>48588.417500</td>\n",
       "      <td>17790.493500</td>\n",
       "    </tr>\n",
       "    <tr>\n",
       "      <th>max</th>\n",
       "      <td>108220.200000</td>\n",
       "      <td>108366.800000</td>\n",
       "      <td>107076.600000</td>\n",
       "      <td>108220.300000</td>\n",
       "      <td>355275.447000</td>\n",
       "    </tr>\n",
       "  </tbody>\n",
       "</table>\n",
       "</div>"
      ],
      "text/plain": [
       "                open           high            low          close  \\\n",
       "count   46460.000000   46460.000000   46460.000000   46460.000000   \n",
       "mean    34334.511614   34491.915990   34170.600074   34336.357737   \n",
       "std     21146.496148   21239.254915   21049.868719   21148.123174   \n",
       "min      4062.950000    4598.000000    3621.810000    4062.890000   \n",
       "25%     16953.725000   16997.650000   16921.850000   16953.800000   \n",
       "50%     29979.000000   30105.400000   29869.800000   29979.200000   \n",
       "75%     48589.365000   48860.367500   48304.490000   48588.417500   \n",
       "max    108220.200000  108366.800000  107076.600000  108220.300000   \n",
       "\n",
       "              volume  \n",
       "count   46460.000000  \n",
       "mean    14774.498800  \n",
       "std     16489.470287  \n",
       "min         0.000000  \n",
       "25%      5586.844750  \n",
       "50%      9781.185500  \n",
       "75%     17790.493500  \n",
       "max    355275.447000  "
      ]
     },
     "execution_count": 7,
     "metadata": {},
     "output_type": "execute_result"
    }
   ],
   "source": [
    "ohlcv.describe()"
   ]
  }
 ],
 "metadata": {
  "kernelspec": {
   "display_name": "Python 3 (ipykernel)",
   "language": "python",
   "name": "python3"
  },
  "language_info": {
   "codemirror_mode": {
    "name": "ipython",
    "version": 3
   },
   "file_extension": ".py",
   "mimetype": "text/x-python",
   "name": "python",
   "nbconvert_exporter": "python",
   "pygments_lexer": "ipython3",
   "version": "3.12.4"
  }
 },
 "nbformat": 4,
 "nbformat_minor": 5
}
